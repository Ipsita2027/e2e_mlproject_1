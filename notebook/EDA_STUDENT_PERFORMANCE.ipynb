{
 "cells": [
  {
   "cell_type": "markdown",
   "metadata": {
    "id": "9M-93dqq-EvU"
   },
   "source": [
    "- ## Lifecycle of a Machine Learning Project\n",
    "    - Understanding the Problem Statement\n",
    "    - Data Collection\n",
    "    - Data Checks\n",
    "    - Exploratory Data Analysis\n",
    "    - Model Trainings\n",
    "    - Choose Best Model"
   ]
  },
  {
   "cell_type": "markdown",
   "metadata": {
    "id": "cteyYKyf_asJ"
   },
   "source": [
    "### 1) Problem Statement\n",
    "- This problem understands students performance in various test scores based on features like,ethnicity,gender,parental education level,preparation courses,lunch type"
   ]
  },
  {
   "cell_type": "markdown",
   "metadata": {
    "id": "cxOxxEt2Bf_Y"
   },
   "source": [
    "### 2) Data Collection\n",
    "- data source : kaggle\n",
    "\n",
    "- Dataset Information\n",
    "\n",
    "    - gender:sex of the student(male,female)\n",
    "    - race/ethnicity:of student(5 races)\n",
    "    - parental level of education:parents highest qualification\n",
    "    - lunch:type of lunch before test\n",
    "    - test preparation course:if the course for test prepartion was completed by the student or not\n",
    "    - maths score:marks in maths\n",
    "    - reading score:marks in reading skill\n",
    "    - writing score:marks in writing skill"
   ]
  },
  {
   "cell_type": "markdown",
   "metadata": {
    "id": "reaBmKkZ_2pi"
   },
   "source": [
    "### Importing necessary libraries to perform data checks: numpy, matplotlib, pandas, warnings, seaborn"
   ]
  },
  {
   "cell_type": "code",
   "execution_count": 1,
   "metadata": {
    "id": "q2eDhScT_3Y5"
   },
   "outputs": [],
   "source": [
    "%matplotlib inline\n",
    "import numpy as np\n",
    "import pandas as pd\n",
    "import seaborn as sns\n",
    "import matplotlib.pyplot as plt\n",
    "import warnings\n",
    "# warnings.filterwarnings(\"default\")\n"
   ]
  },
  {
   "cell_type": "markdown",
   "metadata": {
    "id": "oVugUhc3ALvK"
   },
   "source": [
    "### Importing the csv data as pandas.DataFrame"
   ]
  },
  {
   "cell_type": "code",
   "execution_count": 3,
   "metadata": {
    "id": "HJ350rDxBCVQ"
   },
   "outputs": [],
   "source": [
    "df=pd.read_csv(r\"D:\\e2e_mlproject_1\\notebook\\data\\stdnt_perf.csv\")"
   ]
  },
  {
   "cell_type": "markdown",
   "metadata": {
    "id": "NQxieNHYBVZh"
   },
   "source": [
    "### viewing the first 5 rows of the dataframe"
   ]
  },
  {
   "cell_type": "code",
   "execution_count": 4,
   "metadata": {
    "colab": {
     "base_uri": "https://localhost:8080/",
     "height": 226
    },
    "executionInfo": {
     "elapsed": 88,
     "status": "ok",
     "timestamp": 1750220102932,
     "user": {
      "displayName": "Ipsita Gayatri",
      "userId": "06773408617595282343"
     },
     "user_tz": -330
    },
    "id": "BKOt0ASIBevh",
    "outputId": "6328eeaa-a788-4ca8-87ef-d121bed3be1d"
   },
   "outputs": [
    {
     "data": {
      "text/html": [
       "<div>\n",
       "<style scoped>\n",
       "    .dataframe tbody tr th:only-of-type {\n",
       "        vertical-align: middle;\n",
       "    }\n",
       "\n",
       "    .dataframe tbody tr th {\n",
       "        vertical-align: top;\n",
       "    }\n",
       "\n",
       "    .dataframe thead th {\n",
       "        text-align: right;\n",
       "    }\n",
       "</style>\n",
       "<table border=\"1\" class=\"dataframe\">\n",
       "  <thead>\n",
       "    <tr style=\"text-align: right;\">\n",
       "      <th></th>\n",
       "      <th>gender</th>\n",
       "      <th>race_ethnicity</th>\n",
       "      <th>parental_level_of_education</th>\n",
       "      <th>lunch</th>\n",
       "      <th>test_preparation_course</th>\n",
       "      <th>math_score</th>\n",
       "      <th>reading_score</th>\n",
       "      <th>writing_score</th>\n",
       "    </tr>\n",
       "  </thead>\n",
       "  <tbody>\n",
       "    <tr>\n",
       "      <th>0</th>\n",
       "      <td>female</td>\n",
       "      <td>group B</td>\n",
       "      <td>bachelor's degree</td>\n",
       "      <td>standard</td>\n",
       "      <td>none</td>\n",
       "      <td>72</td>\n",
       "      <td>72</td>\n",
       "      <td>74</td>\n",
       "    </tr>\n",
       "    <tr>\n",
       "      <th>1</th>\n",
       "      <td>female</td>\n",
       "      <td>group C</td>\n",
       "      <td>some college</td>\n",
       "      <td>standard</td>\n",
       "      <td>completed</td>\n",
       "      <td>69</td>\n",
       "      <td>90</td>\n",
       "      <td>88</td>\n",
       "    </tr>\n",
       "    <tr>\n",
       "      <th>2</th>\n",
       "      <td>female</td>\n",
       "      <td>group B</td>\n",
       "      <td>master's degree</td>\n",
       "      <td>standard</td>\n",
       "      <td>none</td>\n",
       "      <td>90</td>\n",
       "      <td>95</td>\n",
       "      <td>93</td>\n",
       "    </tr>\n",
       "    <tr>\n",
       "      <th>3</th>\n",
       "      <td>male</td>\n",
       "      <td>group A</td>\n",
       "      <td>associate's degree</td>\n",
       "      <td>free/reduced</td>\n",
       "      <td>none</td>\n",
       "      <td>47</td>\n",
       "      <td>57</td>\n",
       "      <td>44</td>\n",
       "    </tr>\n",
       "    <tr>\n",
       "      <th>4</th>\n",
       "      <td>male</td>\n",
       "      <td>group C</td>\n",
       "      <td>some college</td>\n",
       "      <td>standard</td>\n",
       "      <td>none</td>\n",
       "      <td>76</td>\n",
       "      <td>78</td>\n",
       "      <td>75</td>\n",
       "    </tr>\n",
       "  </tbody>\n",
       "</table>\n",
       "</div>"
      ],
      "text/plain": [
       "   gender race_ethnicity parental_level_of_education         lunch  \\\n",
       "0  female        group B           bachelor's degree      standard   \n",
       "1  female        group C                some college      standard   \n",
       "2  female        group B             master's degree      standard   \n",
       "3    male        group A          associate's degree  free/reduced   \n",
       "4    male        group C                some college      standard   \n",
       "\n",
       "  test_preparation_course  math_score  reading_score  writing_score  \n",
       "0                    none          72             72             74  \n",
       "1               completed          69             90             88  \n",
       "2                    none          90             95             93  \n",
       "3                    none          47             57             44  \n",
       "4                    none          76             78             75  "
      ]
     },
     "execution_count": 4,
     "metadata": {},
     "output_type": "execute_result"
    }
   ],
   "source": [
    "df.head()"
   ]
  },
  {
   "cell_type": "markdown",
   "metadata": {
    "id": "-H5ezMypHEIQ"
   },
   "source": [
    "## View rows and columns"
   ]
  },
  {
   "cell_type": "code",
   "execution_count": 5,
   "metadata": {
    "colab": {
     "base_uri": "https://localhost:8080/"
    },
    "executionInfo": {
     "elapsed": 49,
     "status": "ok",
     "timestamp": 1750220115254,
     "user": {
      "displayName": "Ipsita Gayatri",
      "userId": "06773408617595282343"
     },
     "user_tz": -330
    },
    "id": "K65GMt92HaBU",
    "outputId": "931c580f-aed0-46f5-ed54-eba03c680968"
   },
   "outputs": [
    {
     "data": {
      "text/plain": [
       "(1000, 8)"
      ]
     },
     "execution_count": 5,
     "metadata": {},
     "output_type": "execute_result"
    }
   ],
   "source": [
    "df.shape"
   ]
  },
  {
   "cell_type": "markdown",
   "metadata": {
    "id": "qmYUBXa1CN1R"
   },
   "source": [
    "## 3) Data Checks to Perform\n",
    "- Check Missing Values\n",
    "- Check Duplicates\n",
    "- Check Datatype\n",
    "- Check Number of Unique Values for each column\n",
    "- Check statistics of dataset\n",
    "- Check various categories present in the dataset of categorical features"
   ]
  },
  {
   "cell_type": "markdown",
   "metadata": {
    "id": "HQ-NORJEGXf1"
   },
   "source": [
    "## 3.1 Check Missing Values"
   ]
  },
  {
   "cell_type": "code",
   "execution_count": 6,
   "metadata": {
    "colab": {
     "base_uri": "https://localhost:8080/",
     "height": 335
    },
    "executionInfo": {
     "elapsed": 16,
     "status": "ok",
     "timestamp": 1750220122852,
     "user": {
      "displayName": "Ipsita Gayatri",
      "userId": "06773408617595282343"
     },
     "user_tz": -330
    },
    "id": "AuQ2-esOHsKs",
    "outputId": "1a8ef204-f8df-40cf-8147-a3032f96df25"
   },
   "outputs": [
    {
     "data": {
      "text/plain": [
       "gender                         0\n",
       "race_ethnicity                 0\n",
       "parental_level_of_education    0\n",
       "lunch                          0\n",
       "test_preparation_course        0\n",
       "math_score                     0\n",
       "reading_score                  0\n",
       "writing_score                  0\n",
       "dtype: int64"
      ]
     },
     "execution_count": 6,
     "metadata": {},
     "output_type": "execute_result"
    }
   ],
   "source": [
    "df.isna().sum()"
   ]
  },
  {
   "cell_type": "markdown",
   "metadata": {
    "id": "pbh-IrKyH0ak"
   },
   "source": [
    "## No missing values"
   ]
  },
  {
   "cell_type": "markdown",
   "metadata": {
    "id": "aYYdqPo4IJrU"
   },
   "source": [
    "## 3.2 Check Duplicates"
   ]
  },
  {
   "cell_type": "code",
   "execution_count": 7,
   "metadata": {
    "colab": {
     "base_uri": "https://localhost:8080/"
    },
    "executionInfo": {
     "elapsed": 48,
     "status": "ok",
     "timestamp": 1750220132880,
     "user": {
      "displayName": "Ipsita Gayatri",
      "userId": "06773408617595282343"
     },
     "user_tz": -330
    },
    "id": "C6_YnLkUHz8t",
    "outputId": "0439a2c5-5888-435f-a198-8b1b355e08e2"
   },
   "outputs": [
    {
     "data": {
      "text/plain": [
       "np.int64(0)"
      ]
     },
     "execution_count": 7,
     "metadata": {},
     "output_type": "execute_result"
    }
   ],
   "source": [
    "df.duplicated().sum()"
   ]
  },
  {
   "cell_type": "markdown",
   "metadata": {
    "id": "8jB3er1YI0x8"
   },
   "source": [
    "## No duplicate rows found"
   ]
  },
  {
   "cell_type": "markdown",
   "metadata": {
    "id": "szp9HigeI76r"
   },
   "source": [
    "## 3.3 Check Datatype"
   ]
  },
  {
   "cell_type": "code",
   "execution_count": 8,
   "metadata": {
    "colab": {
     "base_uri": "https://localhost:8080/"
    },
    "executionInfo": {
     "elapsed": 32,
     "status": "ok",
     "timestamp": 1750220137260,
     "user": {
      "displayName": "Ipsita Gayatri",
      "userId": "06773408617595282343"
     },
     "user_tz": -330
    },
    "id": "DuJ6h9GMHvpt",
    "outputId": "2357596b-fb9d-4c6d-9da2-888ed93f430a"
   },
   "outputs": [
    {
     "name": "stdout",
     "output_type": "stream",
     "text": [
      "<class 'pandas.core.frame.DataFrame'>\n",
      "RangeIndex: 1000 entries, 0 to 999\n",
      "Data columns (total 8 columns):\n",
      " #   Column                       Non-Null Count  Dtype \n",
      "---  ------                       --------------  ----- \n",
      " 0   gender                       1000 non-null   object\n",
      " 1   race_ethnicity               1000 non-null   object\n",
      " 2   parental_level_of_education  1000 non-null   object\n",
      " 3   lunch                        1000 non-null   object\n",
      " 4   test_preparation_course      1000 non-null   object\n",
      " 5   math_score                   1000 non-null   int64 \n",
      " 6   reading_score                1000 non-null   int64 \n",
      " 7   writing_score                1000 non-null   int64 \n",
      "dtypes: int64(3), object(5)\n",
      "memory usage: 62.6+ KB\n"
     ]
    }
   ],
   "source": [
    "df.info()"
   ]
  },
  {
   "cell_type": "markdown",
   "metadata": {
    "id": "PhdPmTcwLTqL"
   },
   "source": [
    "3.4 Check unique values for each column"
   ]
  },
  {
   "cell_type": "code",
   "execution_count": 9,
   "metadata": {
    "colab": {
     "base_uri": "https://localhost:8080/",
     "height": 335
    },
    "executionInfo": {
     "elapsed": 37,
     "status": "ok",
     "timestamp": 1750220140388,
     "user": {
      "displayName": "Ipsita Gayatri",
      "userId": "06773408617595282343"
     },
     "user_tz": -330
    },
    "id": "3LYlT5UeJFEc",
    "outputId": "fa476e48-1094-4099-9f5e-0c7c79b852e8"
   },
   "outputs": [
    {
     "data": {
      "text/plain": [
       "gender                          2\n",
       "race_ethnicity                  5\n",
       "parental_level_of_education     6\n",
       "lunch                           2\n",
       "test_preparation_course         2\n",
       "math_score                     81\n",
       "reading_score                  72\n",
       "writing_score                  77\n",
       "dtype: int64"
      ]
     },
     "execution_count": 9,
     "metadata": {},
     "output_type": "execute_result"
    }
   ],
   "source": [
    "df.nunique()"
   ]
  },
  {
   "cell_type": "markdown",
   "metadata": {
    "id": "cKFQkqfXLlWb"
   },
   "source": [
    "## 3.5 Check numerical and categorical features for the dataset"
   ]
  },
  {
   "cell_type": "code",
   "execution_count": 10,
   "metadata": {
    "colab": {
     "base_uri": "https://localhost:8080/"
    },
    "executionInfo": {
     "elapsed": 17,
     "status": "ok",
     "timestamp": 1750220165733,
     "user": {
      "displayName": "Ipsita Gayatri",
      "userId": "06773408617595282343"
     },
     "user_tz": -330
    },
    "id": "rDIq7iuYNlzy",
    "outputId": "050748f1-ccc7-4d83-fc29-e7f9187357fb"
   },
   "outputs": [
    {
     "data": {
      "text/plain": [
       "Index(['gender', 'race_ethnicity', 'parental_level_of_education', 'lunch',\n",
       "       'test_preparation_course', 'math_score', 'reading_score',\n",
       "       'writing_score'],\n",
       "      dtype='object')"
      ]
     },
     "execution_count": 10,
     "metadata": {},
     "output_type": "execute_result"
    }
   ],
   "source": [
    "df.columns"
   ]
  },
  {
   "cell_type": "code",
   "execution_count": 11,
   "metadata": {
    "id": "xnA2k2MQL9Sq"
   },
   "outputs": [],
   "source": [
    "num_features=[f for f in df.columns if df[f].dtype!=\"O\"]\n",
    "cat_features=[f for f in df.columns if df[f].dtype==\"O\"]"
   ]
  },
  {
   "cell_type": "code",
   "execution_count": 12,
   "metadata": {
    "colab": {
     "base_uri": "https://localhost:8080/"
    },
    "executionInfo": {
     "elapsed": 15,
     "status": "ok",
     "timestamp": 1750220172826,
     "user": {
      "displayName": "Ipsita Gayatri",
      "userId": "06773408617595282343"
     },
     "user_tz": -330
    },
    "id": "Yf-C2vauNMX6",
    "outputId": "8e158adf-cbf2-40e7-b4cd-8b82566a066a"
   },
   "outputs": [
    {
     "name": "stdout",
     "output_type": "stream",
     "text": [
      "Numerical features are: ['math_score', 'reading_score', 'writing_score']\n",
      "Categorical features are: ['gender', 'race_ethnicity', 'parental_level_of_education', 'lunch', 'test_preparation_course']\n"
     ]
    }
   ],
   "source": [
    "print(f\"Numerical features are: {num_features}\")\n",
    "print(f\"Categorical features are: {cat_features}\")"
   ]
  },
  {
   "cell_type": "markdown",
   "metadata": {
    "id": "Lo0ZXcSmOdUY"
   },
   "source": [
    "## 3.6 Check statistics of numerical features"
   ]
  },
  {
   "cell_type": "code",
   "execution_count": 13,
   "metadata": {
    "colab": {
     "base_uri": "https://localhost:8080/",
     "height": 300
    },
    "executionInfo": {
     "elapsed": 35,
     "status": "ok",
     "timestamp": 1750220190042,
     "user": {
      "displayName": "Ipsita Gayatri",
      "userId": "06773408617595282343"
     },
     "user_tz": -330
    },
    "id": "WxOiCTkiOYZp",
    "outputId": "3db25e7a-9c7d-42f0-ee5a-40f6f4026d90"
   },
   "outputs": [
    {
     "data": {
      "text/html": [
       "<div>\n",
       "<style scoped>\n",
       "    .dataframe tbody tr th:only-of-type {\n",
       "        vertical-align: middle;\n",
       "    }\n",
       "\n",
       "    .dataframe tbody tr th {\n",
       "        vertical-align: top;\n",
       "    }\n",
       "\n",
       "    .dataframe thead th {\n",
       "        text-align: right;\n",
       "    }\n",
       "</style>\n",
       "<table border=\"1\" class=\"dataframe\">\n",
       "  <thead>\n",
       "    <tr style=\"text-align: right;\">\n",
       "      <th></th>\n",
       "      <th>math_score</th>\n",
       "      <th>reading_score</th>\n",
       "      <th>writing_score</th>\n",
       "    </tr>\n",
       "  </thead>\n",
       "  <tbody>\n",
       "    <tr>\n",
       "      <th>count</th>\n",
       "      <td>1000.00000</td>\n",
       "      <td>1000.000000</td>\n",
       "      <td>1000.000000</td>\n",
       "    </tr>\n",
       "    <tr>\n",
       "      <th>mean</th>\n",
       "      <td>66.08900</td>\n",
       "      <td>69.169000</td>\n",
       "      <td>68.054000</td>\n",
       "    </tr>\n",
       "    <tr>\n",
       "      <th>std</th>\n",
       "      <td>15.16308</td>\n",
       "      <td>14.600192</td>\n",
       "      <td>15.195657</td>\n",
       "    </tr>\n",
       "    <tr>\n",
       "      <th>min</th>\n",
       "      <td>0.00000</td>\n",
       "      <td>17.000000</td>\n",
       "      <td>10.000000</td>\n",
       "    </tr>\n",
       "    <tr>\n",
       "      <th>25%</th>\n",
       "      <td>57.00000</td>\n",
       "      <td>59.000000</td>\n",
       "      <td>57.750000</td>\n",
       "    </tr>\n",
       "    <tr>\n",
       "      <th>50%</th>\n",
       "      <td>66.00000</td>\n",
       "      <td>70.000000</td>\n",
       "      <td>69.000000</td>\n",
       "    </tr>\n",
       "    <tr>\n",
       "      <th>75%</th>\n",
       "      <td>77.00000</td>\n",
       "      <td>79.000000</td>\n",
       "      <td>79.000000</td>\n",
       "    </tr>\n",
       "    <tr>\n",
       "      <th>max</th>\n",
       "      <td>100.00000</td>\n",
       "      <td>100.000000</td>\n",
       "      <td>100.000000</td>\n",
       "    </tr>\n",
       "  </tbody>\n",
       "</table>\n",
       "</div>"
      ],
      "text/plain": [
       "       math_score  reading_score  writing_score\n",
       "count  1000.00000    1000.000000    1000.000000\n",
       "mean     66.08900      69.169000      68.054000\n",
       "std      15.16308      14.600192      15.195657\n",
       "min       0.00000      17.000000      10.000000\n",
       "25%      57.00000      59.000000      57.750000\n",
       "50%      66.00000      70.000000      69.000000\n",
       "75%      77.00000      79.000000      79.000000\n",
       "max     100.00000     100.000000     100.000000"
      ]
     },
     "execution_count": 13,
     "metadata": {},
     "output_type": "execute_result"
    }
   ],
   "source": [
    "df.describe()"
   ]
  },
  {
   "cell_type": "markdown",
   "metadata": {
    "id": "yz6xTKbwOm2B"
   },
   "source": [
    "## Insights\n",
    "##### The mean of every score is close,  math:66 reading:69 writing:68\n",
    "##### In fact the variability is also close, math:15 reading:14.6 writing:15\n",
    "\n",
    "### There is difference in minimum scores:\n",
    "maths: 0\n",
    "reading: 17\n",
    "writing: 10"
   ]
  },
  {
   "cell_type": "markdown",
   "metadata": {
    "id": "ahmqPUTNrDAO"
   },
   "source": []
  },
  {
   "cell_type": "code",
   "execution_count": 14,
   "metadata": {
    "colab": {
     "base_uri": "https://localhost:8080/",
     "height": 430
    },
    "executionInfo": {
     "elapsed": 247,
     "status": "ok",
     "timestamp": 1750227259862,
     "user": {
      "displayName": "Ipsita Gayatri",
      "userId": "06773408617595282343"
     },
     "user_tz": -330
    },
    "id": "jZtB-ULdnkYL",
    "outputId": "ce45c5a0-89b3-455b-e54c-faf8ce2807df"
   },
   "outputs": [
    {
     "data": {
      "image/png": "[encoded data removed]",
      "text/plain": [
       "<Figure size 640x480 with 1 Axes>"
      ]
     },
     "metadata": {},
     "output_type": "display_data"
    }
   ],
   "source": [
    "plt.hist(df[\"math_score\"],bins=20,edgecolor=\"black\")\n",
    "plt.show()"
   ]
  },
  {
   "cell_type": "code",
   "execution_count": 15,
   "metadata": {
    "colab": {
     "base_uri": "https://localhost:8080/",
     "height": 430
    },
    "executionInfo": {
     "elapsed": 100,
     "status": "ok",
     "timestamp": 1750227392257,
     "user": {
      "displayName": "Ipsita Gayatri",
      "userId": "06773408617595282343"
     },
     "user_tz": -330
    },
    "id": "ydnTl9DtrcTz",
    "outputId": "7e81dd06-445b-4dbb-aec3-a1edc74e3cec"
   },
   "outputs": [
    {
     "data": {
      "image/png": "[encoded data removed]",
      "text/plain": [
       "<Figure size 640x480 with 1 Axes>"
      ]
     },
     "metadata": {},
     "output_type": "display_data"
    }
   ],
   "source": [
    "plt.boxplot(x=df[\"math_score\"])\n",
    "plt.show()"
   ]
  },
  {
   "cell_type": "code",
   "execution_count": 16,
   "metadata": {
    "colab": {
     "base_uri": "https://localhost:8080/",
     "height": 538
    },
    "executionInfo": {
     "elapsed": 156,
     "status": "ok",
     "timestamp": 1750227575047,
     "user": {
      "displayName": "Ipsita Gayatri",
      "userId": "06773408617595282343"
     },
     "user_tz": -330
    },
    "id": "EvpSjvwWsBJ1",
    "outputId": "98058a65-b793-4ff5-e4d6-2b14e2506855"
   },
   "outputs": [
    {
     "data": {
      "text/plain": [
       "(array([  1.,   3.,   4.,   3.,   7.,  15.,  33.,  31.,  63.,  77.,  84.,\n",
       "         98.,  94., 143.,  95.,  73.,  76.,  44.,  27.,  29.]),\n",
       " array([ 17.  ,  21.15,  25.3 ,  29.45,  33.6 ,  37.75,  41.9 ,  46.05,\n",
       "         50.2 ,  54.35,  58.5 ,  62.65,  66.8 ,  70.95,  75.1 ,  79.25,\n",
       "         83.4 ,  87.55,  91.7 ,  95.85, 100.  ]),\n",
       " <BarContainer object of 20 artists>)"
      ]
     },
     "execution_count": 16,
     "metadata": {},
     "output_type": "execute_result"
    },
    {
     "data": {
      "image/png": "[encoded data removed]",
      "text/plain": [
       "<Figure size 640x480 with 1 Axes>"
      ]
     },
     "metadata": {},
     "output_type": "display_data"
    }
   ],
   "source": [
    "plt.hist(df[\"reading_score\"],bins=20,edgecolor=\"black\")\n",
    "# plt.show()"
   ]
  },
  {
   "cell_type": "code",
   "execution_count": 17,
   "metadata": {
    "colab": {
     "base_uri": "https://localhost:8080/",
     "height": 430
    },
    "executionInfo": {
     "elapsed": 74,
     "status": "ok",
     "timestamp": 1750227586586,
     "user": {
      "displayName": "Ipsita Gayatri",
      "userId": "06773408617595282343"
     },
     "user_tz": -330
    },
    "id": "sCHEYmqKsH0t",
    "outputId": "72271a24-dbd7-4815-9bfc-b10ac53d85bd"
   },
   "outputs": [
    {
     "data": {
      "image/png": "[encoded data removed]",
      "text/plain": [
       "<Figure size 640x480 with 1 Axes>"
      ]
     },
     "metadata": {},
     "output_type": "display_data"
    }
   ],
   "source": [
    "plt.boxplot(x=df[\"reading_score\"])\n",
    "plt.show()"
   ]
  },
  {
   "cell_type": "code",
   "execution_count": 18,
   "metadata": {
    "colab": {
     "base_uri": "https://localhost:8080/",
     "height": 541
    },
    "executionInfo": {
     "elapsed": 253,
     "status": "ok",
     "timestamp": 1750227709601,
     "user": {
      "displayName": "Ipsita Gayatri",
      "userId": "06773408617595282343"
     },
     "user_tz": -330
    },
    "id": "1-MS8NGYsuRl",
    "outputId": "4fda1bf4-397a-4d13-df47-1f32cabfce81"
   },
   "outputs": [
    {
     "data": {
      "text/plain": [
       "(array([  1.,   1.,   3.,   3.,   4.,  10.,  21.,  34.,  47.,  79.,  78.,\n",
       "         83., 124.,  99., 134.,  91.,  79.,  41.,  42.,  26.]),\n",
       " array([ 10. ,  14.5,  19. ,  23.5,  28. ,  32.5,  37. ,  41.5,  46. ,\n",
       "         50.5,  55. ,  59.5,  64. ,  68.5,  73. ,  77.5,  82. ,  86.5,\n",
       "         91. ,  95.5, 100. ]),\n",
       " <BarContainer object of 20 artists>)"
      ]
     },
     "execution_count": 18,
     "metadata": {},
     "output_type": "execute_result"
    },
    {
     "data": {
      "image/png": "[encoded data removed]",
      "text/plain": [
       "<Figure size 640x480 with 1 Axes>"
      ]
     },
     "metadata": {},
     "output_type": "display_data"
    }
   ],
   "source": [
    "plt.hist(df[\"writing_score\"],bins=20,edgecolor=\"black\")\n",
    "# plt.show()"
   ]
  },
  {
   "cell_type": "code",
   "execution_count": 19,
   "metadata": {
    "colab": {
     "base_uri": "https://localhost:8080/",
     "height": 430
    },
    "executionInfo": {
     "elapsed": 76,
     "status": "ok",
     "timestamp": 1750227716093,
     "user": {
      "displayName": "Ipsita Gayatri",
      "userId": "06773408617595282343"
     },
     "user_tz": -330
    },
    "id": "cY2JdlcesygE",
    "outputId": "3a05d1eb-a26a-4e06-c24d-9dbd68229eed"
   },
   "outputs": [
    {
     "data": {
      "image/png": "[encoded data removed]",
      "text/plain": [
       "<Figure size 640x480 with 1 Axes>"
      ]
     },
     "metadata": {},
     "output_type": "display_data"
    }
   ],
   "source": [
    "plt.boxplot(x=df[\"writing_score\"])\n",
    "plt.show()"
   ]
  },
  {
   "cell_type": "code",
   "execution_count": 20,
   "metadata": {
    "colab": {
     "base_uri": "https://localhost:8080/",
     "height": 443
    },
    "executionInfo": {
     "elapsed": 89,
     "status": "ok",
     "timestamp": 1750227464038,
     "user": {
      "displayName": "Ipsita Gayatri",
      "userId": "06773408617595282343"
     },
     "user_tz": -330
    },
    "id": "tGg-tEtkZKtY",
    "outputId": "647ac121-5bd1-4a8b-fcd4-dd0a25f95f4d"
   },
   "outputs": [
    {
     "data": {
      "text/html": [
       "<div>\n",
       "<style scoped>\n",
       "    .dataframe tbody tr th:only-of-type {\n",
       "        vertical-align: middle;\n",
       "    }\n",
       "\n",
       "    .dataframe tbody tr th {\n",
       "        vertical-align: top;\n",
       "    }\n",
       "\n",
       "    .dataframe thead th {\n",
       "        text-align: right;\n",
       "    }\n",
       "</style>\n",
       "<table border=\"1\" class=\"dataframe\">\n",
       "  <thead>\n",
       "    <tr style=\"text-align: right;\">\n",
       "      <th></th>\n",
       "      <th>gender</th>\n",
       "      <th>race_ethnicity</th>\n",
       "      <th>parental_level_of_education</th>\n",
       "      <th>lunch</th>\n",
       "      <th>test_preparation_course</th>\n",
       "      <th>math_score</th>\n",
       "      <th>reading_score</th>\n",
       "      <th>writing_score</th>\n",
       "    </tr>\n",
       "  </thead>\n",
       "  <tbody>\n",
       "    <tr>\n",
       "      <th>2</th>\n",
       "      <td>female</td>\n",
       "      <td>group B</td>\n",
       "      <td>master's degree</td>\n",
       "      <td>standard</td>\n",
       "      <td>none</td>\n",
       "      <td>90</td>\n",
       "      <td>95</td>\n",
       "      <td>93</td>\n",
       "    </tr>\n",
       "    <tr>\n",
       "      <th>4</th>\n",
       "      <td>male</td>\n",
       "      <td>group C</td>\n",
       "      <td>some college</td>\n",
       "      <td>standard</td>\n",
       "      <td>none</td>\n",
       "      <td>76</td>\n",
       "      <td>78</td>\n",
       "      <td>75</td>\n",
       "    </tr>\n",
       "    <tr>\n",
       "      <th>6</th>\n",
       "      <td>female</td>\n",
       "      <td>group B</td>\n",
       "      <td>some college</td>\n",
       "      <td>standard</td>\n",
       "      <td>completed</td>\n",
       "      <td>88</td>\n",
       "      <td>95</td>\n",
       "      <td>92</td>\n",
       "    </tr>\n",
       "    <tr>\n",
       "      <th>16</th>\n",
       "      <td>male</td>\n",
       "      <td>group C</td>\n",
       "      <td>high school</td>\n",
       "      <td>standard</td>\n",
       "      <td>none</td>\n",
       "      <td>88</td>\n",
       "      <td>89</td>\n",
       "      <td>86</td>\n",
       "    </tr>\n",
       "    <tr>\n",
       "      <th>34</th>\n",
       "      <td>male</td>\n",
       "      <td>group E</td>\n",
       "      <td>some college</td>\n",
       "      <td>standard</td>\n",
       "      <td>none</td>\n",
       "      <td>97</td>\n",
       "      <td>87</td>\n",
       "      <td>82</td>\n",
       "    </tr>\n",
       "    <tr>\n",
       "      <th>...</th>\n",
       "      <td>...</td>\n",
       "      <td>...</td>\n",
       "      <td>...</td>\n",
       "      <td>...</td>\n",
       "      <td>...</td>\n",
       "      <td>...</td>\n",
       "      <td>...</td>\n",
       "      <td>...</td>\n",
       "    </tr>\n",
       "    <tr>\n",
       "      <th>983</th>\n",
       "      <td>female</td>\n",
       "      <td>group A</td>\n",
       "      <td>some college</td>\n",
       "      <td>standard</td>\n",
       "      <td>completed</td>\n",
       "      <td>78</td>\n",
       "      <td>87</td>\n",
       "      <td>91</td>\n",
       "    </tr>\n",
       "    <tr>\n",
       "      <th>987</th>\n",
       "      <td>male</td>\n",
       "      <td>group E</td>\n",
       "      <td>some high school</td>\n",
       "      <td>standard</td>\n",
       "      <td>completed</td>\n",
       "      <td>81</td>\n",
       "      <td>75</td>\n",
       "      <td>76</td>\n",
       "    </tr>\n",
       "    <tr>\n",
       "      <th>990</th>\n",
       "      <td>male</td>\n",
       "      <td>group E</td>\n",
       "      <td>high school</td>\n",
       "      <td>free/reduced</td>\n",
       "      <td>completed</td>\n",
       "      <td>86</td>\n",
       "      <td>81</td>\n",
       "      <td>75</td>\n",
       "    </tr>\n",
       "    <tr>\n",
       "      <th>995</th>\n",
       "      <td>female</td>\n",
       "      <td>group E</td>\n",
       "      <td>master's degree</td>\n",
       "      <td>standard</td>\n",
       "      <td>completed</td>\n",
       "      <td>88</td>\n",
       "      <td>99</td>\n",
       "      <td>95</td>\n",
       "    </tr>\n",
       "    <tr>\n",
       "      <th>999</th>\n",
       "      <td>female</td>\n",
       "      <td>group D</td>\n",
       "      <td>some college</td>\n",
       "      <td>free/reduced</td>\n",
       "      <td>none</td>\n",
       "      <td>77</td>\n",
       "      <td>86</td>\n",
       "      <td>86</td>\n",
       "    </tr>\n",
       "  </tbody>\n",
       "</table>\n",
       "<p>211 rows × 8 columns</p>\n",
       "</div>"
      ],
      "text/plain": [
       "     gender race_ethnicity parental_level_of_education         lunch  \\\n",
       "2    female        group B             master's degree      standard   \n",
       "4      male        group C                some college      standard   \n",
       "6    female        group B                some college      standard   \n",
       "16     male        group C                 high school      standard   \n",
       "34     male        group E                some college      standard   \n",
       "..      ...            ...                         ...           ...   \n",
       "983  female        group A                some college      standard   \n",
       "987    male        group E            some high school      standard   \n",
       "990    male        group E                 high school  free/reduced   \n",
       "995  female        group E             master's degree      standard   \n",
       "999  female        group D                some college  free/reduced   \n",
       "\n",
       "    test_preparation_course  math_score  reading_score  writing_score  \n",
       "2                      none          90             95             93  \n",
       "4                      none          76             78             75  \n",
       "6                 completed          88             95             92  \n",
       "16                     none          88             89             86  \n",
       "34                     none          97             87             82  \n",
       "..                      ...         ...            ...            ...  \n",
       "983               completed          78             87             91  \n",
       "987               completed          81             75             76  \n",
       "990               completed          86             81             75  \n",
       "995               completed          88             99             95  \n",
       "999                    none          77             86             86  \n",
       "\n",
       "[211 rows x 8 columns]"
      ]
     },
     "execution_count": 20,
     "metadata": {},
     "output_type": "execute_result"
    }
   ],
   "source": [
    "df_distinction=df[(df[\"reading_score\"]>=75)&(df[\"writing_score\"]>=75)&(df[\"math_score\"]>=75)]\n",
    "df_distinction"
   ]
  },
  {
   "cell_type": "code",
   "execution_count": 21,
   "metadata": {
    "colab": {
     "base_uri": "https://localhost:8080/"
    },
    "executionInfo": {
     "elapsed": 22,
     "status": "ok",
     "timestamp": 1750223505846,
     "user": {
      "displayName": "Ipsita Gayatri",
      "userId": "06773408617595282343"
     },
     "user_tz": -330
    },
    "id": "Dy6s2KmxbQ0J",
    "outputId": "00ae27a5-998b-4976-c64f-9df83954e711"
   },
   "outputs": [
    {
     "data": {
      "text/plain": [
       "21.099999999999998"
      ]
     },
     "execution_count": 21,
     "metadata": {},
     "output_type": "execute_result"
    }
   ],
   "source": [
    "len(df_distinction)/len(df)*100"
   ]
  },
  {
   "cell_type": "code",
   "execution_count": 22,
   "metadata": {
    "colab": {
     "base_uri": "https://localhost:8080/"
    },
    "executionInfo": {
     "elapsed": 17,
     "status": "ok",
     "timestamp": 1750224049104,
     "user": {
      "displayName": "Ipsita Gayatri",
      "userId": "06773408617595282343"
     },
     "user_tz": -330
    },
    "id": "UViN_q4neaK6",
    "outputId": "ee1d8bc8-4a80-4287-80d4-136e4f7daf19"
   },
   "outputs": [
    {
     "data": {
      "text/plain": [
       "113"
      ]
     },
     "execution_count": 22,
     "metadata": {},
     "output_type": "execute_result"
    }
   ],
   "source": [
    "len(df_distinction[df_distinction[\"test_preparation_course\"]==\"none\"])\n",
    "len(df_distinction[df_distinction[\"test_preparation_course\"]==\"completed\"])"
   ]
  },
  {
   "cell_type": "markdown",
   "metadata": {
    "id": "Rm58z33acFqa"
   },
   "source": [
    "More than 21% of students have received distinction in all the three tests"
   ]
  },
  {
   "cell_type": "code",
   "execution_count": 23,
   "metadata": {
    "executionInfo": {
     "elapsed": 5,
     "status": "ok",
     "timestamp": 1750226133800,
     "user": {
      "displayName": "Ipsita Gayatri",
      "userId": "06773408617595282343"
     },
     "user_tz": -330
    },
    "id": "rQgthlS_ifkz"
   },
   "outputs": [],
   "source": [
    "def bar_graph_with_label(xs,heights,bar_labels,percentage=False):\n",
    "    fig,ax=plt.subplots()\n",
    "    bars=ax.bar(x=xs,height=heights)\n",
    "\n",
    "    sum=0\n",
    "    if percentage:\n",
    "        for height in heights:\n",
    "            sum+=height\n",
    "\n",
    "    for bar,bar_label in zip(bars,bar_labels):\n",
    "        height=bar.get_height()\n",
    "        ax.text(\n",
    "            (bar.get_x()+bar.get_width())/2,\n",
    "            height,\n",
    "            f\"{bar_label/sum*100 if sum>0 else bar_label}\",\n",
    "            ha=\"center\",va=\"bottom\"\n",
    "        )\n",
    "    plt.show()\n"
   ]
  },
  {
   "cell_type": "code",
   "execution_count": 24,
   "metadata": {
    "colab": {
     "base_uri": "https://localhost:8080/",
     "height": 430
    },
    "executionInfo": {
     "elapsed": 1277,
     "status": "ok",
     "timestamp": 1750226135887,
     "user": {
      "displayName": "Ipsita Gayatri",
      "userId": "06773408617595282343"
     },
     "user_tz": -330
    },
    "id": "08rba3XGck1y",
    "outputId": "4c4e550a-5ec8-4436-f0ba-bb2e628473a4"
   },
   "outputs": [
    {
     "data": {
      "image/png": "[encoded data removed]",
      "text/plain": [
       "<Figure size 640x480 with 1 Axes>"
      ]
     },
     "metadata": {},
     "output_type": "display_data"
    }
   ],
   "source": [
    "bar_graph_with_label(df_distinction[\"test_preparation_course\"].unique(),[len(df_distinction[df_distinction[\"test_preparation_course\"]==\"none\"]),len(df_distinction[df_distinction[\"test_preparation_course\"]==\"completed\"])],[len(df_distinction[df_distinction[\"test_preparation_course\"]==\"none\"]),len(df_distinction[df_distinction[\"test_preparation_course\"]==\"completed\"])],percentage=True)"
   ]
  },
  {
   "cell_type": "markdown",
   "metadata": {
    "id": "vX2Wt7CIlPsC"
   },
   "source": [
    "## INSIGHT\n",
    "#### Completion of the test preparation course is not necessary for distinction."
   ]
  },
  {
   "cell_type": "code",
   "execution_count": 25,
   "metadata": {
    "colab": {
     "base_uri": "https://localhost:8080/",
     "height": 382
    },
    "executionInfo": {
     "elapsed": 42,
     "status": "ok",
     "timestamp": 1750226223310,
     "user": {
      "displayName": "Ipsita Gayatri",
      "userId": "06773408617595282343"
     },
     "user_tz": -330
    },
    "id": "dpuh-flIm8zF",
    "outputId": "2ade38eb-61c6-45dd-ddb5-d68f51817324"
   },
   "outputs": [
    {
     "data": {
      "text/html": [
       "<div>\n",
       "<style scoped>\n",
       "    .dataframe tbody tr th:only-of-type {\n",
       "        vertical-align: middle;\n",
       "    }\n",
       "\n",
       "    .dataframe tbody tr th {\n",
       "        vertical-align: top;\n",
       "    }\n",
       "\n",
       "    .dataframe thead th {\n",
       "        text-align: right;\n",
       "    }\n",
       "</style>\n",
       "<table border=\"1\" class=\"dataframe\">\n",
       "  <thead>\n",
       "    <tr style=\"text-align: right;\">\n",
       "      <th></th>\n",
       "      <th>gender</th>\n",
       "      <th>race_ethnicity</th>\n",
       "      <th>parental_level_of_education</th>\n",
       "      <th>lunch</th>\n",
       "      <th>test_preparation_course</th>\n",
       "      <th>math_score</th>\n",
       "      <th>reading_score</th>\n",
       "      <th>writing_score</th>\n",
       "    </tr>\n",
       "  </thead>\n",
       "  <tbody>\n",
       "    <tr>\n",
       "      <th>114</th>\n",
       "      <td>female</td>\n",
       "      <td>group E</td>\n",
       "      <td>bachelor's degree</td>\n",
       "      <td>standard</td>\n",
       "      <td>completed</td>\n",
       "      <td>99</td>\n",
       "      <td>100</td>\n",
       "      <td>100</td>\n",
       "    </tr>\n",
       "    <tr>\n",
       "      <th>165</th>\n",
       "      <td>female</td>\n",
       "      <td>group C</td>\n",
       "      <td>bachelor's degree</td>\n",
       "      <td>standard</td>\n",
       "      <td>completed</td>\n",
       "      <td>96</td>\n",
       "      <td>100</td>\n",
       "      <td>100</td>\n",
       "    </tr>\n",
       "    <tr>\n",
       "      <th>179</th>\n",
       "      <td>female</td>\n",
       "      <td>group D</td>\n",
       "      <td>some high school</td>\n",
       "      <td>standard</td>\n",
       "      <td>completed</td>\n",
       "      <td>97</td>\n",
       "      <td>100</td>\n",
       "      <td>100</td>\n",
       "    </tr>\n",
       "    <tr>\n",
       "      <th>458</th>\n",
       "      <td>female</td>\n",
       "      <td>group E</td>\n",
       "      <td>bachelor's degree</td>\n",
       "      <td>standard</td>\n",
       "      <td>none</td>\n",
       "      <td>100</td>\n",
       "      <td>100</td>\n",
       "      <td>100</td>\n",
       "    </tr>\n",
       "    <tr>\n",
       "      <th>625</th>\n",
       "      <td>male</td>\n",
       "      <td>group D</td>\n",
       "      <td>some college</td>\n",
       "      <td>standard</td>\n",
       "      <td>completed</td>\n",
       "      <td>100</td>\n",
       "      <td>97</td>\n",
       "      <td>99</td>\n",
       "    </tr>\n",
       "    <tr>\n",
       "      <th>712</th>\n",
       "      <td>female</td>\n",
       "      <td>group D</td>\n",
       "      <td>some college</td>\n",
       "      <td>standard</td>\n",
       "      <td>none</td>\n",
       "      <td>98</td>\n",
       "      <td>100</td>\n",
       "      <td>99</td>\n",
       "    </tr>\n",
       "    <tr>\n",
       "      <th>717</th>\n",
       "      <td>female</td>\n",
       "      <td>group C</td>\n",
       "      <td>associate's degree</td>\n",
       "      <td>standard</td>\n",
       "      <td>completed</td>\n",
       "      <td>96</td>\n",
       "      <td>96</td>\n",
       "      <td>99</td>\n",
       "    </tr>\n",
       "    <tr>\n",
       "      <th>855</th>\n",
       "      <td>female</td>\n",
       "      <td>group B</td>\n",
       "      <td>bachelor's degree</td>\n",
       "      <td>standard</td>\n",
       "      <td>none</td>\n",
       "      <td>97</td>\n",
       "      <td>97</td>\n",
       "      <td>96</td>\n",
       "    </tr>\n",
       "    <tr>\n",
       "      <th>916</th>\n",
       "      <td>male</td>\n",
       "      <td>group E</td>\n",
       "      <td>bachelor's degree</td>\n",
       "      <td>standard</td>\n",
       "      <td>completed</td>\n",
       "      <td>100</td>\n",
       "      <td>100</td>\n",
       "      <td>100</td>\n",
       "    </tr>\n",
       "    <tr>\n",
       "      <th>962</th>\n",
       "      <td>female</td>\n",
       "      <td>group E</td>\n",
       "      <td>associate's degree</td>\n",
       "      <td>standard</td>\n",
       "      <td>none</td>\n",
       "      <td>100</td>\n",
       "      <td>100</td>\n",
       "      <td>100</td>\n",
       "    </tr>\n",
       "  </tbody>\n",
       "</table>\n",
       "</div>"
      ],
      "text/plain": [
       "     gender race_ethnicity parental_level_of_education     lunch  \\\n",
       "114  female        group E           bachelor's degree  standard   \n",
       "165  female        group C           bachelor's degree  standard   \n",
       "179  female        group D            some high school  standard   \n",
       "458  female        group E           bachelor's degree  standard   \n",
       "625    male        group D                some college  standard   \n",
       "712  female        group D                some college  standard   \n",
       "717  female        group C          associate's degree  standard   \n",
       "855  female        group B           bachelor's degree  standard   \n",
       "916    male        group E           bachelor's degree  standard   \n",
       "962  female        group E          associate's degree  standard   \n",
       "\n",
       "    test_preparation_course  math_score  reading_score  writing_score  \n",
       "114               completed          99            100            100  \n",
       "165               completed          96            100            100  \n",
       "179               completed          97            100            100  \n",
       "458                    none         100            100            100  \n",
       "625               completed         100             97             99  \n",
       "712                    none          98            100             99  \n",
       "717               completed          96             96             99  \n",
       "855                    none          97             97             96  \n",
       "916               completed         100            100            100  \n",
       "962                    none         100            100            100  "
      ]
     },
     "execution_count": 25,
     "metadata": {},
     "output_type": "execute_result"
    }
   ],
   "source": [
    "df_full=df[(df[\"reading_score\"]>=95)&(df[\"writing_score\"]>=95)&(df[\"math_score\"]>=95)]\n",
    "df_full"
   ]
  },
  {
   "cell_type": "code",
   "execution_count": 26,
   "metadata": {
    "colab": {
     "base_uri": "https://localhost:8080/"
    },
    "executionInfo": {
     "elapsed": 19,
     "status": "ok",
     "timestamp": 1750222489921,
     "user": {
      "displayName": "Ipsita Gayatri",
      "userId": "06773408617595282343"
     },
     "user_tz": -330
    },
    "id": "HIoLVtCbPDXe",
    "outputId": "c2df698b-3287-4efb-ccf5-f3ee2f3e1c76"
   },
   "outputs": [
    {
     "name": "stdout",
     "output_type": "stream",
     "text": [
      "17\n",
      "14\n",
      "7\n"
     ]
    }
   ],
   "source": [
    "print(f\"{len(df[df['reading_score']==100])}\")\n",
    "print(f\"{len(df[df['writing_score']==100])}\")\n",
    "print(f\"{len(df[df['math_score']==100])}\")"
   ]
  },
  {
   "cell_type": "code",
   "execution_count": 27,
   "metadata": {
    "colab": {
     "base_uri": "https://localhost:8080/"
    },
    "executionInfo": {
     "elapsed": 7,
     "status": "ok",
     "timestamp": 1750227887372,
     "user": {
      "displayName": "Ipsita Gayatri",
      "userId": "06773408617595282343"
     },
     "user_tz": -330
    },
    "id": "EWXOCKKFOkPB",
    "outputId": "848bd022-11ad-4095-ce15-2b58977224d0"
   },
   "outputs": [
    {
     "name": "stdout",
     "output_type": "stream",
     "text": [
      "There are 5 categorical features in the dataset\n",
      "\n",
      "\n",
      "Categories for gender: ['female', 'male']\n",
      "Categories for race_ethnicity: ['group B', 'group C', 'group A', 'group D', 'group E']\n",
      "Categories for parental_level_of_education: [\"bachelor's degree\", 'some college', \"master's degree\", \"associate's degree\", 'high school', 'some high school']\n",
      "Categories for lunch: ['standard', 'free/reduced']\n",
      "Categories for test_preparation_course: ['none', 'completed']\n"
     ]
    }
   ],
   "source": [
    "print(f\"There are {len(cat_features)} categorical features in the dataset\\n\\n\")\n",
    "\n",
    "for f in cat_features:\n",
    "    print(f\"Categories for {f}: {list(df[f].unique())}\")\n"
   ]
  }
 ],
 "metadata": {
  "colab": {
   "authorship_tag": "ABX9TyM/0lNlBHZCW+CWZBx1NILq",
   "provenance": []
  },
  "kernelspec": {
   "display_name": "venv2",
   "language": "python",
   "name": "python3"
  },
  "language_info": {
   "codemirror_mode": {
    "name": "ipython",
    "version": 3
   },
   "file_extension": ".py",
   "mimetype": "text/x-python",
   "name": "python",
   "nbconvert_exporter": "python",
   "pygments_lexer": "ipython3",
   "version": "3.13.0"
  }
 },
 "nbformat": 4,
 "nbformat_minor": 0
}
