{
 "cells": [
  {
   "cell_type": "markdown",
   "metadata": {
    "id": "_72OoSGjfuWV"
   },
   "source": [
    "### 2 gradient boosting algos,1 bagging,1 boosting, 1 decision tree,1 classical linear regression,lasso and ridge,1 k neighbors"
   ]
  },
  {
   "cell_type": "code",
   "execution_count": 1,
   "metadata": {},
   "outputs": [
    {
     "name": "stdout",
     "output_type": "stream",
     "text": [
      "Python executable: d:\\e2e_mlproject_1\\venv2\\Scripts\\python.exe\n",
      "sys.path: ['C:\\\\Users\\\\Ipsita\\\\AppData\\\\Local\\\\Programs\\\\Python\\\\Python313\\\\python313.zip', 'C:\\\\Users\\\\Ipsita\\\\AppData\\\\Local\\\\Programs\\\\Python\\\\Python313\\\\DLLs', 'C:\\\\Users\\\\Ipsita\\\\AppData\\\\Local\\\\Programs\\\\Python\\\\Python313\\\\Lib', 'C:\\\\Users\\\\Ipsita\\\\AppData\\\\Local\\\\Programs\\\\Python\\\\Python313', 'd:\\\\e2e_mlproject_1\\\\venv2', '', 'd:\\\\e2e_mlproject_1\\\\venv2\\\\Lib\\\\site-packages', 'd:\\\\e2e_mlproject_1\\\\venv2\\\\Lib\\\\site-packages\\\\win32', 'd:\\\\e2e_mlproject_1\\\\venv2\\\\Lib\\\\site-packages\\\\win32\\\\lib', 'd:\\\\e2e_mlproject_1\\\\venv2\\\\Lib\\\\site-packages\\\\Pythonwin']\n",
      "VIRTUAL_ENV: D:\\e2e_mlproject_1\\venv2\n"
     ]
    }
   ],
   "source": [
    "import sys\n",
    "import os\n",
    "print(f\"Python executable: {sys.executable}\")\n",
    "print(f\"sys.path: {sys.path}\")\n",
    "print(f\"VIRTUAL_ENV: {os.environ.get('VIRTUAL_ENV')}\")"
   ]
  },
  {
   "cell_type": "code",
   "execution_count": 2,
   "metadata": {
    "executionInfo": {
     "elapsed": 2363,
     "status": "ok",
     "timestamp": 1750384441430,
     "user": {
      "displayName": "Ipsita Gayatri",
      "userId": "06773408617595282343"
     },
     "user_tz": -330
    },
    "id": "CW35wNO6b4Wk"
   },
   "outputs": [],
   "source": [
    "from xgboost import XGBRegressor\n",
    "from sklearn.ensemble import RandomForestRegressor, AdaBoostRegressor\n",
    "from sklearn.tree import DecisionTreeRegressor\n",
    "from sklearn.neighbors import KNeighborsRegressor\n",
    "from sklearn.metrics import mean_absolute_error,mean_squared_error,r2_score\n",
    "from sklearn.linear_model import LinearRegression,Lasso,Ridge\n",
    "from sklearn.model_selection import train_test_split\n",
    "from sklearn.preprocessing import StandardScaler,OneHotEncoder\n",
    "from sklearn.compose import ColumnTransformer"
   ]
  },
  {
   "cell_type": "code",
   "execution_count": 3,
   "metadata": {
    "executionInfo": {
     "elapsed": 471,
     "status": "ok",
     "timestamp": 1750384441904,
     "user": {
      "displayName": "Ipsita Gayatri",
      "userId": "06773408617595282343"
     },
     "user_tz": -330
    },
    "id": "J_Sm_ef6fgmQ"
   },
   "outputs": [],
   "source": [
    "import pandas as pd\n",
    "import numpy as np\n",
    "import matplotlib.pyplot as plt\n",
    "import seaborn as sns\n",
    "from sklearn.metrics import accuracy_score"
   ]
  },
  {
   "cell_type": "code",
   "execution_count": 4,
   "metadata": {
    "executionInfo": {
     "elapsed": 700,
     "status": "ok",
     "timestamp": 1750384442598,
     "user": {
      "displayName": "Ipsita Gayatri",
      "userId": "06773408617595282343"
     },
     "user_tz": -330
    },
    "id": "WmYFDSZWgobO"
   },
   "outputs": [],
   "source": [
    "df=pd.read_csv(r\"D:\\e2e_mlproject_1\\notebook\\data\\stdnt_perf.csv\")"
   ]
  },
  {
   "cell_type": "code",
   "execution_count": 5,
   "metadata": {
    "colab": {
     "base_uri": "https://localhost:8080/",
     "height": 206
    },
    "executionInfo": {
     "elapsed": 112,
     "status": "ok",
     "timestamp": 1750384442714,
     "user": {
      "displayName": "Ipsita Gayatri",
      "userId": "06773408617595282343"
     },
     "user_tz": -330
    },
    "id": "o5jfY0kTg28l",
    "outputId": "264c8a73-18d7-4878-f88a-1a266f7cbfa1"
   },
   "outputs": [
    {
     "data": {
      "text/html": [
       "<div>\n",
       "<style scoped>\n",
       "    .dataframe tbody tr th:only-of-type {\n",
       "        vertical-align: middle;\n",
       "    }\n",
       "\n",
       "    .dataframe tbody tr th {\n",
       "        vertical-align: top;\n",
       "    }\n",
       "\n",
       "    .dataframe thead th {\n",
       "        text-align: right;\n",
       "    }\n",
       "</style>\n",
       "<table border=\"1\" class=\"dataframe\">\n",
       "  <thead>\n",
       "    <tr style=\"text-align: right;\">\n",
       "      <th></th>\n",
       "      <th>gender</th>\n",
       "      <th>race_ethnicity</th>\n",
       "      <th>parental_level_of_education</th>\n",
       "      <th>lunch</th>\n",
       "      <th>test_preparation_course</th>\n",
       "      <th>math_score</th>\n",
       "      <th>reading_score</th>\n",
       "      <th>writing_score</th>\n",
       "    </tr>\n",
       "  </thead>\n",
       "  <tbody>\n",
       "    <tr>\n",
       "      <th>0</th>\n",
       "      <td>female</td>\n",
       "      <td>group B</td>\n",
       "      <td>bachelor's degree</td>\n",
       "      <td>standard</td>\n",
       "      <td>none</td>\n",
       "      <td>72</td>\n",
       "      <td>72</td>\n",
       "      <td>74</td>\n",
       "    </tr>\n",
       "    <tr>\n",
       "      <th>1</th>\n",
       "      <td>female</td>\n",
       "      <td>group C</td>\n",
       "      <td>some college</td>\n",
       "      <td>standard</td>\n",
       "      <td>completed</td>\n",
       "      <td>69</td>\n",
       "      <td>90</td>\n",
       "      <td>88</td>\n",
       "    </tr>\n",
       "    <tr>\n",
       "      <th>2</th>\n",
       "      <td>female</td>\n",
       "      <td>group B</td>\n",
       "      <td>master's degree</td>\n",
       "      <td>standard</td>\n",
       "      <td>none</td>\n",
       "      <td>90</td>\n",
       "      <td>95</td>\n",
       "      <td>93</td>\n",
       "    </tr>\n",
       "    <tr>\n",
       "      <th>3</th>\n",
       "      <td>male</td>\n",
       "      <td>group A</td>\n",
       "      <td>associate's degree</td>\n",
       "      <td>free/reduced</td>\n",
       "      <td>none</td>\n",
       "      <td>47</td>\n",
       "      <td>57</td>\n",
       "      <td>44</td>\n",
       "    </tr>\n",
       "    <tr>\n",
       "      <th>4</th>\n",
       "      <td>male</td>\n",
       "      <td>group C</td>\n",
       "      <td>some college</td>\n",
       "      <td>standard</td>\n",
       "      <td>none</td>\n",
       "      <td>76</td>\n",
       "      <td>78</td>\n",
       "      <td>75</td>\n",
       "    </tr>\n",
       "  </tbody>\n",
       "</table>\n",
       "</div>"
      ],
      "text/plain": [
       "   gender race_ethnicity parental_level_of_education         lunch  \\\n",
       "0  female        group B           bachelor's degree      standard   \n",
       "1  female        group C                some college      standard   \n",
       "2  female        group B             master's degree      standard   \n",
       "3    male        group A          associate's degree  free/reduced   \n",
       "4    male        group C                some college      standard   \n",
       "\n",
       "  test_preparation_course  math_score  reading_score  writing_score  \n",
       "0                    none          72             72             74  \n",
       "1               completed          69             90             88  \n",
       "2                    none          90             95             93  \n",
       "3                    none          47             57             44  \n",
       "4                    none          76             78             75  "
      ]
     },
     "execution_count": 5,
     "metadata": {},
     "output_type": "execute_result"
    }
   ],
   "source": [
    "df.head()"
   ]
  },
  {
   "cell_type": "code",
   "execution_count": 6,
   "metadata": {
    "executionInfo": {
     "elapsed": 23,
     "status": "ok",
     "timestamp": 1750384442739,
     "user": {
      "displayName": "Ipsita Gayatri",
      "userId": "06773408617595282343"
     },
     "user_tz": -330
    },
    "id": "K_Q70qSKhkjd"
   },
   "outputs": [],
   "source": [
    "y=df[\"math_score\"]\n",
    "X=df.drop(columns=[\"math_score\"])"
   ]
  },
  {
   "cell_type": "code",
   "execution_count": 7,
   "metadata": {
    "colab": {
     "base_uri": "https://localhost:8080/",
     "height": 206
    },
    "executionInfo": {
     "elapsed": 100,
     "status": "ok",
     "timestamp": 1750384443378,
     "user": {
      "displayName": "Ipsita Gayatri",
      "userId": "06773408617595282343"
     },
     "user_tz": -330
    },
    "id": "PN8Kwphuhvrd",
    "outputId": "cc915a9d-0129-4096-c1cd-77b1f3ae8a2f"
   },
   "outputs": [
    {
     "data": {
      "text/html": [
       "<div>\n",
       "<style scoped>\n",
       "    .dataframe tbody tr th:only-of-type {\n",
       "        vertical-align: middle;\n",
       "    }\n",
       "\n",
       "    .dataframe tbody tr th {\n",
       "        vertical-align: top;\n",
       "    }\n",
       "\n",
       "    .dataframe thead th {\n",
       "        text-align: right;\n",
       "    }\n",
       "</style>\n",
       "<table border=\"1\" class=\"dataframe\">\n",
       "  <thead>\n",
       "    <tr style=\"text-align: right;\">\n",
       "      <th></th>\n",
       "      <th>gender</th>\n",
       "      <th>race_ethnicity</th>\n",
       "      <th>parental_level_of_education</th>\n",
       "      <th>lunch</th>\n",
       "      <th>test_preparation_course</th>\n",
       "      <th>reading_score</th>\n",
       "      <th>writing_score</th>\n",
       "    </tr>\n",
       "  </thead>\n",
       "  <tbody>\n",
       "    <tr>\n",
       "      <th>0</th>\n",
       "      <td>female</td>\n",
       "      <td>group B</td>\n",
       "      <td>bachelor's degree</td>\n",
       "      <td>standard</td>\n",
       "      <td>none</td>\n",
       "      <td>72</td>\n",
       "      <td>74</td>\n",
       "    </tr>\n",
       "    <tr>\n",
       "      <th>1</th>\n",
       "      <td>female</td>\n",
       "      <td>group C</td>\n",
       "      <td>some college</td>\n",
       "      <td>standard</td>\n",
       "      <td>completed</td>\n",
       "      <td>90</td>\n",
       "      <td>88</td>\n",
       "    </tr>\n",
       "    <tr>\n",
       "      <th>2</th>\n",
       "      <td>female</td>\n",
       "      <td>group B</td>\n",
       "      <td>master's degree</td>\n",
       "      <td>standard</td>\n",
       "      <td>none</td>\n",
       "      <td>95</td>\n",
       "      <td>93</td>\n",
       "    </tr>\n",
       "    <tr>\n",
       "      <th>3</th>\n",
       "      <td>male</td>\n",
       "      <td>group A</td>\n",
       "      <td>associate's degree</td>\n",
       "      <td>free/reduced</td>\n",
       "      <td>none</td>\n",
       "      <td>57</td>\n",
       "      <td>44</td>\n",
       "    </tr>\n",
       "    <tr>\n",
       "      <th>4</th>\n",
       "      <td>male</td>\n",
       "      <td>group C</td>\n",
       "      <td>some college</td>\n",
       "      <td>standard</td>\n",
       "      <td>none</td>\n",
       "      <td>78</td>\n",
       "      <td>75</td>\n",
       "    </tr>\n",
       "  </tbody>\n",
       "</table>\n",
       "</div>"
      ],
      "text/plain": [
       "   gender race_ethnicity parental_level_of_education         lunch  \\\n",
       "0  female        group B           bachelor's degree      standard   \n",
       "1  female        group C                some college      standard   \n",
       "2  female        group B             master's degree      standard   \n",
       "3    male        group A          associate's degree  free/reduced   \n",
       "4    male        group C                some college      standard   \n",
       "\n",
       "  test_preparation_course  reading_score  writing_score  \n",
       "0                    none             72             74  \n",
       "1               completed             90             88  \n",
       "2                    none             95             93  \n",
       "3                    none             57             44  \n",
       "4                    none             78             75  "
      ]
     },
     "execution_count": 7,
     "metadata": {},
     "output_type": "execute_result"
    }
   ],
   "source": [
    "X.head()"
   ]
  },
  {
   "cell_type": "markdown",
   "metadata": {
    "id": "Zc-JO_cDhSjc"
   },
   "source": [
    "## Transform the columns:\n",
    "### One Hot Encode the categorical and standardize the numerical"
   ]
  },
  {
   "cell_type": "code",
   "execution_count": 8,
   "metadata": {
    "colab": {
     "base_uri": "https://localhost:8080/"
    },
    "executionInfo": {
     "elapsed": 13,
     "status": "ok",
     "timestamp": 1750384445453,
     "user": {
      "displayName": "Ipsita Gayatri",
      "userId": "06773408617595282343"
     },
     "user_tz": -330
    },
    "id": "aMxWde2rg5xV",
    "outputId": "4f6b8ec4-2137-4dcb-fed5-2eefa6e9b38c"
   },
   "outputs": [
    {
     "data": {
      "text/plain": [
       "['gender',\n",
       " 'race_ethnicity',\n",
       " 'parental_level_of_education',\n",
       " 'lunch',\n",
       " 'test_preparation_course']"
      ]
     },
     "execution_count": 8,
     "metadata": {},
     "output_type": "execute_result"
    }
   ],
   "source": [
    "#separate the categorical and numerical column labels\n",
    "cat_features=X.select_dtypes(include=\"object\").columns.tolist()\n",
    "num_features=X.select_dtypes(exclude=\"object\").columns.tolist()\n",
    "\n",
    "cat_features"
   ]
  },
  {
   "cell_type": "code",
   "execution_count": 9,
   "metadata": {
    "executionInfo": {
     "elapsed": 11,
     "status": "ok",
     "timestamp": 1750384446195,
     "user": {
      "displayName": "Ipsita Gayatri",
      "userId": "06773408617595282343"
     },
     "user_tz": -330
    },
    "id": "xF_ZrZtSiSdX"
   },
   "outputs": [],
   "source": [
    "col_tr=ColumnTransformer(\n",
    "    [(\"onehotencoding\",OneHotEncoder(dtype=int),cat_features),\n",
    "     (\"scaling\",StandardScaler(),num_features)]\n",
    ")"
   ]
  },
  {
   "cell_type": "code",
   "execution_count": 10,
   "metadata": {
    "colab": {
     "base_uri": "https://localhost:8080/"
    },
    "executionInfo": {
     "elapsed": 34,
     "status": "ok",
     "timestamp": 1750384446895,
     "user": {
      "displayName": "Ipsita Gayatri",
      "userId": "06773408617595282343"
     },
     "user_tz": -330
    },
    "id": "tROrWndGpd3D",
    "outputId": "3dbcbc07-1ada-4fcb-d3dd-91b1d0bda5dc"
   },
   "outputs": [
    {
     "data": {
      "text/plain": [
       "(1000, 19)"
      ]
     },
     "execution_count": 10,
     "metadata": {},
     "output_type": "execute_result"
    }
   ],
   "source": [
    "X=col_tr.fit_transform(X)\n",
    "X.shape"
   ]
  },
  {
   "cell_type": "code",
   "execution_count": 11,
   "metadata": {
    "executionInfo": {
     "elapsed": 15,
     "status": "ok",
     "timestamp": 1750384447708,
     "user": {
      "displayName": "Ipsita Gayatri",
      "userId": "06773408617595282343"
     },
     "user_tz": -330
    },
    "id": "HlhXnszNpjCS"
   },
   "outputs": [],
   "source": [
    "X_train,X_test,y_train,y_test=train_test_split(X,y,test_size=0.2,random_state=42)"
   ]
  },
  {
   "cell_type": "code",
   "execution_count": 12,
   "metadata": {
    "executionInfo": {
     "elapsed": 6,
     "status": "ok",
     "timestamp": 1750384790694,
     "user": {
      "displayName": "Ipsita Gayatri",
      "userId": "06773408617595282343"
     },
     "user_tz": -330
    },
    "id": "1Q6iJs-kqStb"
   },
   "outputs": [],
   "source": [
    "models={\n",
    "    \"linear regression\":LinearRegression(),\n",
    "    \"lasso\":Lasso(),\n",
    "    \"ridge\":Ridge(),\n",
    "    \"decision tree regression\":DecisionTreeRegressor(),\n",
    "    \"random forest regression\":RandomForestRegressor(),\n",
    "    \"ada boost\":AdaBoostRegressor(),\n",
    "    \"xgb boost\":XGBRegressor()\n",
    "}"
   ]
  },
  {
   "cell_type": "code",
   "execution_count": 13,
   "metadata": {
    "colab": {
     "base_uri": "https://localhost:8080/"
    },
    "executionInfo": {
     "elapsed": 55,
     "status": "ok",
     "timestamp": 1750388665196,
     "user": {
      "displayName": "Ipsita Gayatri",
      "userId": "06773408617595282343"
     },
     "user_tz": -330
    },
    "id": "X4TUym3qEEq-",
    "outputId": "21a6be1e-af54-4b3c-a72d-d565b432fbb2"
   },
   "outputs": [
    {
     "data": {
      "text/plain": [
       "['linear regression',\n",
       " 'lasso',\n",
       " 'ridge',\n",
       " 'decision tree regression',\n",
       " 'random forest regression',\n",
       " 'ada boost',\n",
       " 'xgb boost']"
      ]
     },
     "execution_count": 13,
     "metadata": {},
     "output_type": "execute_result"
    }
   ],
   "source": [
    "models_list=list(models.keys())\n",
    "mse_list_train=[]\n",
    "mse_list_test=[]\n",
    "mae_list_train=[]\n",
    "mae_list_test=[]\n",
    "#r2 is better if close to 1\n",
    "r2_scores_train=[]\n",
    "r2_scores_test=[]\n",
    "models_list"
   ]
  },
  {
   "cell_type": "code",
   "execution_count": 14,
   "metadata": {
    "executionInfo": {
     "elapsed": 6,
     "status": "ok",
     "timestamp": 1750386501412,
     "user": {
      "displayName": "Ipsita Gayatri",
      "userId": "06773408617595282343"
     },
     "user_tz": -330
    },
    "id": "YMRf3s6REleu"
   },
   "outputs": [],
   "source": [
    "import threading\n"
   ]
  },
  {
   "cell_type": "code",
   "execution_count": 15,
   "metadata": {
    "executionInfo": {
     "elapsed": 17,
     "status": "ok",
     "timestamp": 1750387783050,
     "user": {
      "displayName": "Ipsita Gayatri",
      "userId": "06773408617595282343"
     },
     "user_tz": -330
    },
    "id": "6DicAztQMKkI"
   },
   "outputs": [],
   "source": [
    "#using pseudo-multithreading in python\n",
    "def model_training(model):\n",
    "    model.fit(X_train,y_train)\n",
    "    y_train_pred=model.predict(X_train)\n",
    "    mse_list_train.append(mean_squared_error(y_train,y_train_pred))\n",
    "    mae_list_train.append(mean_absolute_error(y_train,y_train_pred))\n",
    "    r2_scores_train.append(r2_score(y_train,y_train_pred))\n",
    "    y_test_pred=model.predict(X_test)\n",
    "    mse_list_test.append(mean_squared_error(y_test,y_test_pred))\n",
    "    mae_list_test.append(mean_absolute_error(y_test,y_test_pred))\n",
    "    r2_scores_test.append(r2_score(y_test,y_test_pred))\n"
   ]
  },
  {
   "cell_type": "code",
   "execution_count": 16,
   "metadata": {
    "executionInfo": {
     "elapsed": 152,
     "status": "ok",
     "timestamp": 1750388673359,
     "user": {
      "displayName": "Ipsita Gayatri",
      "userId": "06773408617595282343"
     },
     "user_tz": -330
    },
    "id": "XEz-Y5i7KmUn"
   },
   "outputs": [],
   "source": [
    "for i in range(len(models_list)):\n",
    "    threading.Thread(target=model_training,daemon=True,args=(models[models_list[i]],)).start()"
   ]
  },
  {
   "cell_type": "code",
   "execution_count": 17,
   "metadata": {
    "colab": {
     "base_uri": "https://localhost:8080/"
    },
    "executionInfo": {
     "elapsed": 19,
     "status": "ok",
     "timestamp": 1750388445472,
     "user": {
      "displayName": "Ipsita Gayatri",
      "userId": "06773408617595282343"
     },
     "user_tz": -330
    },
    "id": "aRaleasRPgAx",
    "outputId": "5c5f659c-64fd-4c4a-9eb8-7c7eff972334"
   },
   "outputs": [
    {
     "name": "stdout",
     "output_type": "stream",
     "text": [
      "[0.8743172040139593, 0.8071462015863456, 0.8743042615212909, 0.9996534669718089, 0.8474981131156452, 0.9954995512962341, 0.9762978275504954]\n"
     ]
    }
   ],
   "source": [
    "print(r2_scores_train)"
   ]
  },
  {
   "cell_type": "code",
   "execution_count": 18,
   "metadata": {
    "colab": {
     "base_uri": "https://localhost:8080/"
    },
    "executionInfo": {
     "elapsed": 7,
     "status": "ok",
     "timestamp": 1750388451947,
     "user": {
      "displayName": "Ipsita Gayatri",
      "userId": "06773408617595282343"
     },
     "user_tz": -330
    },
    "id": "ioCf663SPwxR",
    "outputId": "0a0baabf-ac9f-4ae5-a10f-0ab56482f304"
   },
   "outputs": [
    {
     "name": "stdout",
     "output_type": "stream",
     "text": [
      "[0.8804332983749565, 0.8253197323627853, 0.8805931485028737, 0.7401560953799318, 0.8277965784072876, 0.852167132678189, 0.8525631364227166]\n"
     ]
    }
   ],
   "source": [
    "print(r2_scores_test)"
   ]
  },
  {
   "cell_type": "markdown",
   "metadata": {
    "id": "JUvC3AVVQWSb"
   },
   "source": [
    "## Without Using Multithreading"
   ]
  },
  {
   "cell_type": "code",
   "execution_count": 19,
   "metadata": {
    "colab": {
     "base_uri": "https://localhost:8080/"
    },
    "executionInfo": {
     "elapsed": 18,
     "status": "ok",
     "timestamp": 1750388678412,
     "user": {
      "displayName": "Ipsita Gayatri",
      "userId": "06773408617595282343"
     },
     "user_tz": -330
    },
    "id": "XwY5YGGgQj2B",
    "outputId": "c2587909-4f9b-45ae-985a-1ee266aaed7b"
   },
   "outputs": [
    {
     "data": {
      "text/plain": [
       "['linear regression',\n",
       " 'lasso',\n",
       " 'ridge',\n",
       " 'decision tree regression',\n",
       " 'random forest regression',\n",
       " 'ada boost',\n",
       " 'xgb boost']"
      ]
     },
     "execution_count": 19,
     "metadata": {},
     "output_type": "execute_result"
    }
   ],
   "source": [
    "_mse_list_train=[]\n",
    "_mse_list_test=[]\n",
    "_mae_list_train=[]\n",
    "_mae_list_test=[]\n",
    "#r2 is better if close to 1\n",
    "_r2_scores_train=[]\n",
    "_r2_scores_test=[]\n",
    "models_list"
   ]
  },
  {
   "cell_type": "code",
   "execution_count": 20,
   "metadata": {
    "executionInfo": {
     "elapsed": 2,
     "status": "ok",
     "timestamp": 1750388479903,
     "user": {
      "displayName": "Ipsita Gayatri",
      "userId": "06773408617595282343"
     },
     "user_tz": -330
    },
    "id": "1QBLFxo1QDiR"
   },
   "outputs": [],
   "source": [
    "def _model_training(model):\n",
    "    model.fit(X_train,y_train)\n",
    "    y_train_pred=model.predict(X_train)\n",
    "    _mse_list_train.append(mean_squared_error(y_train,y_train_pred))\n",
    "    _mae_list_train.append(mean_absolute_error(y_train,y_train_pred))\n",
    "    _r2_scores_train.append(r2_score(y_train,y_train_pred))\n",
    "    y_test_pred=model.predict(X_test)\n",
    "    _mse_list_test.append(mean_squared_error(y_test,y_test_pred))\n",
    "    _mae_list_test.append(mean_absolute_error(y_test,y_test_pred))\n",
    "    _r2_scores_test.append(r2_score(y_test,y_test_pred))"
   ]
  },
  {
   "cell_type": "code",
   "execution_count": 21,
   "metadata": {
    "colab": {
     "base_uri": "https://localhost:8080/"
    },
    "collapsed": true,
    "executionInfo": {
     "elapsed": 1273,
     "status": "ok",
     "timestamp": 1750388683402,
     "user": {
      "displayName": "Ipsita Gayatri",
      "userId": "06773408617595282343"
     },
     "user_tz": -330
    },
    "id": "8rMePN6GSFii",
    "outputId": "f499e283-d553-4ba8-84bb-95bd43fab263"
   },
   "outputs": [],
   "source": [
    "for i in range(len(models_list)):\n",
    "    _model_training(models[models_list[i]])"
   ]
  },
  {
   "cell_type": "code",
   "execution_count": 22,
   "metadata": {
    "colab": {
     "base_uri": "https://localhost:8080/"
    },
    "executionInfo": {
     "elapsed": 57,
     "status": "ok",
     "timestamp": 1750388723791,
     "user": {
      "displayName": "Ipsita Gayatri",
      "userId": "06773408617595282343"
     },
     "user_tz": -330
    },
    "id": "wAXCsOLOSZfh",
    "outputId": "47f11314-77ec-499b-f227-dc95e6e7f0b2"
   },
   "outputs": [
    {
     "name": "stdout",
     "output_type": "stream",
     "text": [
      "[0.8804332983749565, 0.8253197323627853, 0.8805931485028737, 0.7107731455454627, 0.8498524600783427, 0.8497779393637701, 0.8277965784072876]\n"
     ]
    }
   ],
   "source": [
    "print(_r2_scores_test)"
   ]
  },
  {
   "cell_type": "code",
   "execution_count": 23,
   "metadata": {
    "colab": {
     "base_uri": "https://localhost:8080/"
    },
    "executionInfo": {
     "elapsed": 8,
     "status": "ok",
     "timestamp": 1750388696823,
     "user": {
      "displayName": "Ipsita Gayatri",
      "userId": "06773408617595282343"
     },
     "user_tz": -330
    },
    "id": "vUQhNT44Sa8S",
    "outputId": "da9f4568-26c0-488e-87b0-92168ad58cf2"
   },
   "outputs": [
    {
     "name": "stdout",
     "output_type": "stream",
     "text": [
      "[0.8804332983749565, 0.8253197323627853, 0.8805931485028737, 0.7401560953799318, 0.8277965784072876, 0.852167132678189, 0.8525631364227166]\n"
     ]
    }
   ],
   "source": [
    "print(r2_scores_test)"
   ]
  },
  {
   "cell_type": "code",
   "execution_count": 24,
   "metadata": {
    "colab": {
     "base_uri": "https://localhost:8080/"
    },
    "executionInfo": {
     "elapsed": 7,
     "status": "ok",
     "timestamp": 1750388693335,
     "user": {
      "displayName": "Ipsita Gayatri",
      "userId": "06773408617595282343"
     },
     "user_tz": -330
    },
    "id": "Cy7JXvd4Sd2y",
    "outputId": "66ad6296-8308-44d3-928e-e8d9539f99ff"
   },
   "outputs": [
    {
     "name": "stdout",
     "output_type": "stream",
     "text": [
      "[0.8743172040139593, 0.8071462015863456, 0.8743042615212909, 0.9996534669718089, 0.8474981131156452, 0.9954995512962341, 0.9762978275504954]\n"
     ]
    }
   ],
   "source": [
    "print(r2_scores_train)"
   ]
  },
  {
   "cell_type": "code",
   "execution_count": 25,
   "metadata": {
    "colab": {
     "base_uri": "https://localhost:8080/"
    },
    "executionInfo": {
     "elapsed": 14,
     "status": "ok",
     "timestamp": 1750388858078,
     "user": {
      "displayName": "Ipsita Gayatri",
      "userId": "06773408617595282343"
     },
     "user_tz": -330
    },
    "id": "92y-wIP8SGJi",
    "outputId": "74e61f0c-c484-4bcc-fe55-12931c1d65c3"
   },
   "outputs": [
    {
     "name": "stdout",
     "output_type": "stream",
     "text": [
      "[0.8743172040139593, 0.8071462015863456, 0.8743042615212909, 0.9996534669718089, 0.9768463856488494, 0.8476845211651102, 0.9954995512962341]\n"
     ]
    }
   ],
   "source": [
    "print(_r2_scores_train)"
   ]
  },
  {
   "cell_type": "code",
   "execution_count": 26,
   "metadata": {
    "colab": {
     "base_uri": "https://localhost:8080/",
     "height": 385
    },
    "executionInfo": {
     "elapsed": 324,
     "status": "ok",
     "timestamp": 1750389469292,
     "user": {
      "displayName": "Ipsita Gayatri",
      "userId": "06773408617595282343"
     },
     "user_tz": -330
    },
    "id": "pZo7-HcCTAcy",
    "outputId": "301e3096-b5a5-4d3f-e2f0-6aec040dc535"
   },
   "outputs": [
    {
     "data": {
      "text/plain": [
       "[<matplotlib.lines.Line2D at 0x27e47e51e50>]"
      ]
     },
     "execution_count": 26,
     "metadata": {},
     "output_type": "execute_result"
    },
    {
     "data": {
      "image/png": "[encoded data removed]",
      "text/plain": [
       "<Figure size 1000x400 with 1 Axes>"
      ]
     },
     "metadata": {},
     "output_type": "display_data"
    }
   ],
   "source": [
    "plt.figure(figsize=(10,4))\n",
    "plt.plot([model for model in models_list],_r2_scores_train,marker=\"o\",color=\"blue\")\n",
    "plt.plot([model for model in models_list],_r2_scores_test,marker=\"o\",color=\"red\")"
   ]
  },
  {
   "cell_type": "markdown",
   "metadata": {
    "id": "rz0OSxweWazB"
   },
   "source": [
    "### the ridge and linear reg model have low overfitting and bias, and out of the two ridge has a better r2 score for the test set.\n",
    "\n",
    "## Ridge model is chosen for prediction"
   ]
  }
 ],
 "metadata": {
  "colab": {
   "authorship_tag": "ABX9TyNNsqJi7FW6UngTAsusDWGQ",
   "provenance": []
  },
  "kernelspec": {
   "display_name": "venv2",
   "language": "python",
   "name": "python3"
  },
  "language_info": {
   "codemirror_mode": {
    "name": "ipython",
    "version": 3
   },
   "file_extension": ".py",
   "mimetype": "text/x-python",
   "name": "python",
   "nbconvert_exporter": "python",
   "pygments_lexer": "ipython3",
   "version": "3.13.0"
  }
 },
 "nbformat": 4,
 "nbformat_minor": 0
}
